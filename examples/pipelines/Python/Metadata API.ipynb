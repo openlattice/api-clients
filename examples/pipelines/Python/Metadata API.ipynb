{
 "cells": [
  {
   "cell_type": "code",
   "execution_count": 1,
   "metadata": {},
   "outputs": [],
   "source": [
    "import olpy\n",
    "import openlattice\n",
    "import pandas as pd\n",
    "import sqlalchemy as sq\n",
    "import re\n",
    "import pytz\n",
    "import numpy as np\n",
    "import os"
   ]
  },
  {
   "cell_type": "code",
   "execution_count": 2,
   "metadata": {},
   "outputs": [],
   "source": [
    "conf = openlattice.Configuration()\n",
    "conf.host = \"https://api.openlattice.com\"\n",
    "conf.access_token = \"<INSERT JWT TOKEN>\"\n",
    "\n",
    "entitySetsAPI = openlattice.EntitySetsApi(openlattice.ApiClient(conf))\n",
    "dataAPI = openlattice.DataApi(openlattice.ApiClient(conf))\n",
    "dataSetMetadataAPI = openlattice.DataSetMetadataApi(openlattice.ApiClient(conf))"
   ]
  },
  {
   "cell_type": "markdown",
   "metadata": {},
   "source": [
    "## To get a metadata for a dataset or a column\n",
    "\n",
    "First find the UUID for the dataset or column. To find the UUID for the dataset, either check out the [orgs page](https://openlattice.com/orgs/#/orgs/) and find the table you are looking for. The UUID will be the last part of the URL. Alternatively, use `get_organization_data_sets_metadata` and input the organization ID as the argument.\n",
    "\n",
    "Once you find the data set metadata, then use `get_data_set_metadata` or `get_data_set_column_metadata` to get the appropriate metadata result. Pass in the UUID of the data set for `get_data_set_metadata` or the UUID of the data set and UUID of the column to for `get_data_set_column_metadata`."
   ]
  },
  {
   "cell_type": "code",
   "execution_count": 3,
   "metadata": {},
   "outputs": [
    {
     "data": {
      "text/plain": [
       "{'c681fe24-e493-4bfd-b427-310c8b430672': {'data_set_type': 'EntitySet',\n",
       "  'external_id': 'c681fe24-e493-4bfd-b427-310c8b430672',\n",
       "  'id': 'c681fe24-e493-4bfd-b427-310c8b430672',\n",
       "  'metadata': {'contacts': [],\n",
       "               'description': 'This is an automatically generated auditing '\n",
       "                              'entity set.',\n",
       "               'flags': ['AUDIT', 'ASSOCIATION'],\n",
       "               'metadata': [],\n",
       "               'title': 'Audit edge entity set for '\n",
       "                        'org-metadata-92161827-b871-4ab5-8857-c895e7fa863c '\n",
       "                        '([41267d90-8023-441b-acbd-b0404c2f41de])'},\n",
       "  'name': '41267d90-8023-441b-acbd-b0404c2f41de-2021-2-19-1613772892724_edges',\n",
       "  'organization_id': '92161827-b871-4ab5-8857-c895e7fa863c'},\n",
       " '43edad96-1f5c-42b9-9b4f-8cc14e0cd9dd': {'data_set_type': 'EntitySet',\n",
       "  'external_id': '43edad96-1f5c-42b9-9b4f-8cc14e0cd9dd',\n",
       "  'id': '43edad96-1f5c-42b9-9b4f-8cc14e0cd9dd',\n",
       "  'metadata': {'contacts': [],\n",
       "               'description': 'This is an automatically generated auditing '\n",
       "                              'entity set.',\n",
       "               'flags': ['AUDIT', 'ASSOCIATION'],\n",
       "               'metadata': [],\n",
       "               'title': 'Audit edge entity set for '\n",
       "                        'datasets-92161827-b871-4ab5-8857-c895e7fa863c '\n",
       "                        '([05ba1be8-fe2e-4f28-8c7c-8b01894ee57f])'},\n",
       "  'name': '05ba1be8-fe2e-4f28-8c7c-8b01894ee57f-2021-2-19-1613772890939_edges',\n",
       "  'organization_id': '92161827-b871-4ab5-8857-c895e7fa863c'},\n",
       " '494cad93-0420-47fd-9d28-c3205fa199c9': {'data_set_type': 'EntitySet',\n",
       "  'external_id': '494cad93-0420-47fd-9d28-c3205fa199c9',\n",
       "  'id': '494cad93-0420-47fd-9d28-c3205fa199c9',\n",
       "  'metadata': {'contacts': [],\n",
       "               'description': 'This is an automatically generated auditing '\n",
       "                              'entity set.',\n",
       "               'flags': ['AUDIT'],\n",
       "               'metadata': [],\n",
       "               'title': 'Audit entity set for '\n",
       "                        'datasets-92161827-b871-4ab5-8857-c895e7fa863c '\n",
       "                        '([05ba1be8-fe2e-4f28-8c7c-8b01894ee57f])'},\n",
       "  'name': '05ba1be8-fe2e-4f28-8c7c-8b01894ee57f-2021-2-19-1613772890939',\n",
       "  'organization_id': '92161827-b871-4ab5-8857-c895e7fa863c'},\n",
       " '41267d90-8023-441b-acbd-b0404c2f41de': {'data_set_type': 'EntitySet',\n",
       "  'external_id': '41267d90-8023-441b-acbd-b0404c2f41de',\n",
       "  'id': '41267d90-8023-441b-acbd-b0404c2f41de',\n",
       "  'metadata': {'contacts': [],\n",
       "               'description': 'Organization metadata for '\n",
       "                              '92161827-b871-4ab5-8857-c895e7fa863c',\n",
       "               'flags': ['METADATA'],\n",
       "               'metadata': [],\n",
       "               'title': 'Organization metadata for '\n",
       "                        '92161827-b871-4ab5-8857-c895e7fa863c'},\n",
       "  'name': 'org-metadata-92161827-b871-4ab5-8857-c895e7fa863c',\n",
       "  'organization_id': '92161827-b871-4ab5-8857-c895e7fa863c'},\n",
       " '4b30e2d4-1bbd-4161-9787-e8559a53e76e': {'data_set_type': 'EntitySet',\n",
       "  'external_id': '4b30e2d4-1bbd-4161-9787-e8559a53e76e',\n",
       "  'id': '4b30e2d4-1bbd-4161-9787-e8559a53e76e',\n",
       "  'metadata': {'contacts': [],\n",
       "               'description': 'Dataset columns for '\n",
       "                              '92161827-b871-4ab5-8857-c895e7fa863c',\n",
       "               'flags': ['METADATA'],\n",
       "               'metadata': [],\n",
       "               'title': 'Dataset columns for '\n",
       "                        '92161827-b871-4ab5-8857-c895e7fa863c'},\n",
       "  'name': 'columns-92161827-b871-4ab5-8857-c895e7fa863c',\n",
       "  'organization_id': '92161827-b871-4ab5-8857-c895e7fa863c'},\n",
       " '05ba1be8-fe2e-4f28-8c7c-8b01894ee57f': {'data_set_type': 'EntitySet',\n",
       "  'external_id': '05ba1be8-fe2e-4f28-8c7c-8b01894ee57f',\n",
       "  'id': '05ba1be8-fe2e-4f28-8c7c-8b01894ee57f',\n",
       "  'metadata': {'contacts': [],\n",
       "               'description': 'Datasets for '\n",
       "                              '92161827-b871-4ab5-8857-c895e7fa863c',\n",
       "               'flags': ['METADATA'],\n",
       "               'metadata': [],\n",
       "               'title': 'Datasets for 92161827-b871-4ab5-8857-c895e7fa863c'},\n",
       "  'name': 'datasets-92161827-b871-4ab5-8857-c895e7fa863c',\n",
       "  'organization_id': '92161827-b871-4ab5-8857-c895e7fa863c'},\n",
       " '1bdea1ae-9be9-403b-9d7e-aee3d372dff4': {'data_set_type': 'EntitySet',\n",
       "  'external_id': '1bdea1ae-9be9-403b-9d7e-aee3d372dff4',\n",
       "  'id': '1bdea1ae-9be9-403b-9d7e-aee3d372dff4',\n",
       "  'metadata': {'contacts': [],\n",
       "               'description': 'This is an automatically generated auditing '\n",
       "                              'entity set.',\n",
       "               'flags': ['AUDIT'],\n",
       "               'metadata': [],\n",
       "               'title': 'Audit entity set for '\n",
       "                        'columns-92161827-b871-4ab5-8857-c895e7fa863c '\n",
       "                        '([4b30e2d4-1bbd-4161-9787-e8559a53e76e])'},\n",
       "  'name': '4b30e2d4-1bbd-4161-9787-e8559a53e76e-2021-2-19-1613772895456',\n",
       "  'organization_id': '92161827-b871-4ab5-8857-c895e7fa863c'},\n",
       " '2ca97ccb-9bfd-4956-a19a-1d47e30e9081': {'data_set_type': 'EntitySet',\n",
       "  'external_id': '2ca97ccb-9bfd-4956-a19a-1d47e30e9081',\n",
       "  'id': '2ca97ccb-9bfd-4956-a19a-1d47e30e9081',\n",
       "  'metadata': {'contacts': [],\n",
       "               'description': 'This is an automatically generated auditing '\n",
       "                              'entity set.',\n",
       "               'flags': ['AUDIT'],\n",
       "               'metadata': [],\n",
       "               'title': 'Audit entity set for '\n",
       "                        'org-metadata-92161827-b871-4ab5-8857-c895e7fa863c '\n",
       "                        '([41267d90-8023-441b-acbd-b0404c2f41de])'},\n",
       "  'name': '41267d90-8023-441b-acbd-b0404c2f41de-2021-2-19-1613772892724',\n",
       "  'organization_id': '92161827-b871-4ab5-8857-c895e7fa863c'},\n",
       " '6320568a-e0ba-4524-a7a6-d0fce1ecfa69': {'data_set_type': 'EntitySet',\n",
       "  'external_id': '6320568a-e0ba-4524-a7a6-d0fce1ecfa69',\n",
       "  'id': '6320568a-e0ba-4524-a7a6-d0fce1ecfa69',\n",
       "  'metadata': {'contacts': [],\n",
       "               'description': 'This is an automatically generated auditing '\n",
       "                              'entity set.',\n",
       "               'flags': ['AUDIT', 'ASSOCIATION'],\n",
       "               'metadata': [],\n",
       "               'title': 'Audit edge entity set for '\n",
       "                        'columns-92161827-b871-4ab5-8857-c895e7fa863c '\n",
       "                        '([4b30e2d4-1bbd-4161-9787-e8559a53e76e])'},\n",
       "  'name': '4b30e2d4-1bbd-4161-9787-e8559a53e76e-2021-2-19-1613772895456_edges',\n",
       "  'organization_id': '92161827-b871-4ab5-8857-c895e7fa863c'},\n",
       " '2a4e464d-192f-415e-aba0-193d0fe1ec82': {'data_set_type': 'EntitySet',\n",
       "  'external_id': '2a4e464d-192f-415e-aba0-193d0fe1ec82',\n",
       "  'id': '2a4e464d-192f-415e-aba0-193d0fe1ec82',\n",
       "  'metadata': {'contacts': [],\n",
       "               'description': 'This is an automatically generated auditing '\n",
       "                              'entity set.',\n",
       "               'flags': ['AUDIT'],\n",
       "               'metadata': [],\n",
       "               'title': 'Audit entity set for Super Awesome Test Org - Kim, '\n",
       "                        'Yue, Hristo ([92161827-b871-4ab5-8857-c895e7fa863c])'},\n",
       "  'name': '92161827-b871-4ab5-8857-c895e7fa863c-2021-3-1-1614629298809',\n",
       "  'organization_id': '92161827-b871-4ab5-8857-c895e7fa863c'},\n",
       " '264df60b-443b-4cf5-a80f-6d99dd3a3de5': {'data_set_type': 'ExternalTable',\n",
       "  'external_id': '1778712581',\n",
       "  'id': '264df60b-443b-4cf5-a80f-6d99dd3a3de5',\n",
       "  'metadata': {'contacts': [],\n",
       "               'description': '',\n",
       "               'flags': [],\n",
       "               'metadata': [],\n",
       "               'title': 'test_data123'},\n",
       "  'name': 'test_data123',\n",
       "  'organization_id': '92161827-b871-4ab5-8857-c895e7fa863c'},\n",
       " '68459dce-40c0-45ad-a037-558a7ec36a71': {'data_set_type': 'ExternalTable',\n",
       "  'external_id': '1778710658',\n",
       "  'id': '68459dce-40c0-45ad-a037-558a7ec36a71',\n",
       "  'metadata': {'contacts': [],\n",
       "               'description': '',\n",
       "               'flags': [],\n",
       "               'metadata': [],\n",
       "               'title': 'test_data'},\n",
       "  'name': 'test_data',\n",
       "  'organization_id': '92161827-b871-4ab5-8857-c895e7fa863c'},\n",
       " '6cd52949-88af-4179-a8f1-93336d5d9a71': {'data_set_type': 'ExternalTable',\n",
       "  'external_id': '1778717381',\n",
       "  'id': '6cd52949-88af-4179-a8f1-93336d5d9a71',\n",
       "  'metadata': {'contacts': ['yue@openlattice.com'],\n",
       "               'description': '',\n",
       "               'flags': [],\n",
       "               'metadata': [],\n",
       "               'title': 'Hello'},\n",
       "  'name': 'new_test_data',\n",
       "  'organization_id': '92161827-b871-4ab5-8857-c895e7fa863c'},\n",
       " '80fc4b09-8a13-418e-95b1-11dc823c44c5': {'data_set_type': 'ExternalTable',\n",
       "  'external_id': '1778739934',\n",
       "  'id': '80fc4b09-8a13-418e-95b1-11dc823c44c5',\n",
       "  'metadata': {'contacts': [],\n",
       "               'description': '',\n",
       "               'flags': [],\n",
       "               'metadata': [],\n",
       "               'title': 'final_test'},\n",
       "  'name': 'final_test',\n",
       "  'organization_id': '92161827-b871-4ab5-8857-c895e7fa863c'}}"
      ]
     },
     "execution_count": 3,
     "metadata": {},
     "output_type": "execute_result"
    }
   ],
   "source": [
    "dataSetMetadataAPI.get_organization_data_sets_metadata(\"92161827-b871-4ab5-8857-c895e7fa863c\")"
   ]
  },
  {
   "cell_type": "code",
   "execution_count": 4,
   "metadata": {
    "scrolled": true
   },
   "outputs": [
    {
     "data": {
      "text/plain": [
       "{'data_set_type': 'ExternalTable',\n",
       " 'external_id': '1778717381',\n",
       " 'id': '6cd52949-88af-4179-a8f1-93336d5d9a71',\n",
       " 'metadata': {'contacts': ['yue@openlattice.com'],\n",
       "              'description': '',\n",
       "              'flags': [],\n",
       "              'metadata': [],\n",
       "              'title': 'Hello'},\n",
       " 'name': 'new_test_data',\n",
       " 'organization_id': '92161827-b871-4ab5-8857-c895e7fa863c'}"
      ]
     },
     "execution_count": 4,
     "metadata": {},
     "output_type": "execute_result"
    }
   ],
   "source": [
    "dataSetMetadataAPI.get_data_set_metadata(\"6cd52949-88af-4179-a8f1-93336d5d9a71\")"
   ]
  },
  {
   "cell_type": "code",
   "execution_count": 5,
   "metadata": {
    "scrolled": false
   },
   "outputs": [
    {
     "data": {
      "text/plain": [
       "{'acl_key': ['6cd52949-88af-4179-a8f1-93336d5d9a71',\n",
       "             '82333f39-25f7-4d85-87c5-24e2d79e05d6'],\n",
       " 'data_set_id': '6cd52949-88af-4179-a8f1-93336d5d9a71',\n",
       " 'data_type': 'BIGINT',\n",
       " 'id': '82333f39-25f7-4d85-87c5-24e2d79e05d6',\n",
       " 'metadata': {'contacts': ['yue@openlattice.com'],\n",
       "              'description': '',\n",
       "              'flags': [],\n",
       "              'metadata': [],\n",
       "              'title': 'Hello'},\n",
       " 'name': 'b',\n",
       " 'organization_id': '92161827-b871-4ab5-8857-c895e7fa863c'}"
      ]
     },
     "execution_count": 5,
     "metadata": {},
     "output_type": "execute_result"
    }
   ],
   "source": [
    "dataSetMetadataAPI.get_data_set_column_metadata(\n",
    "    '6cd52949-88af-4179-a8f1-93336d5d9a71', \n",
    "    '82333f39-25f7-4d85-87c5-24e2d79e05d6'\n",
    ")"
   ]
  },
  {
   "cell_type": "markdown",
   "metadata": {},
   "source": [
    "## To get multiple results for metadata...\n",
    "\n",
    "If you want to find metadata for multiple values, use `get_data_sets_metadata` and `get_data_set_columns_metadata`. Instead of passing in UUID directly, set `request_body` to a list of UUIDs. Both take the UUIDs of datasets (`get_data_set_columns_metadata` will return all of the column metadata associated with the datasets you passed in). "
   ]
  },
  {
   "cell_type": "code",
   "execution_count": 6,
   "metadata": {
    "scrolled": true
   },
   "outputs": [
    {
     "data": {
      "text/plain": [
       "{'6cd52949-88af-4179-a8f1-93336d5d9a71': {'data_set_type': 'ExternalTable',\n",
       "  'external_id': '1778717381',\n",
       "  'id': '6cd52949-88af-4179-a8f1-93336d5d9a71',\n",
       "  'metadata': {'contacts': ['yue@openlattice.com'],\n",
       "               'description': '',\n",
       "               'flags': [],\n",
       "               'metadata': [],\n",
       "               'title': 'Hello'},\n",
       "  'name': 'new_test_data',\n",
       "  'organization_id': '92161827-b871-4ab5-8857-c895e7fa863c'}}"
      ]
     },
     "execution_count": 6,
     "metadata": {},
     "output_type": "execute_result"
    }
   ],
   "source": [
    "dataSetMetadataAPI.get_data_sets_metadata(request_body = ['6cd52949-88af-4179-a8f1-93336d5d9a71'])"
   ]
  },
  {
   "cell_type": "code",
   "execution_count": 7,
   "metadata": {},
   "outputs": [
    {
     "data": {
      "text/plain": [
       "{'6cd52949-88af-4179-a8f1-93336d5d9a71': [{'acl_key': ['6cd52949-88af-4179-a8f1-93336d5d9a71',\n",
       "               '82333f39-25f7-4d85-87c5-24e2d79e05d6'],\n",
       "   'data_set_id': '6cd52949-88af-4179-a8f1-93336d5d9a71',\n",
       "   'data_type': 'BIGINT',\n",
       "   'id': '82333f39-25f7-4d85-87c5-24e2d79e05d6',\n",
       "   'metadata': {'contacts': ['yue@openlattice.com'],\n",
       "                'description': '',\n",
       "                'flags': [],\n",
       "                'metadata': [],\n",
       "                'title': 'Hello'},\n",
       "   'name': 'b',\n",
       "   'organization_id': '92161827-b871-4ab5-8857-c895e7fa863c'},\n",
       "  {'acl_key': ['6cd52949-88af-4179-a8f1-93336d5d9a71',\n",
       "               '568a1e84-a5bc-45f5-8ed9-4675813a2adb'],\n",
       "   'data_set_id': '6cd52949-88af-4179-a8f1-93336d5d9a71',\n",
       "   'data_type': 'BIGINT',\n",
       "   'id': '568a1e84-a5bc-45f5-8ed9-4675813a2adb',\n",
       "   'metadata': {'contacts': [],\n",
       "                'description': '',\n",
       "                'flags': [],\n",
       "                'metadata': [],\n",
       "                'title': 'a'},\n",
       "   'name': 'a',\n",
       "   'organization_id': '92161827-b871-4ab5-8857-c895e7fa863c'},\n",
       "  {'acl_key': ['6cd52949-88af-4179-a8f1-93336d5d9a71',\n",
       "               '3237245f-90fb-46a2-bc27-82b864907afa'],\n",
       "   'data_set_id': '6cd52949-88af-4179-a8f1-93336d5d9a71',\n",
       "   'data_type': 'BIGINT',\n",
       "   'id': '3237245f-90fb-46a2-bc27-82b864907afa',\n",
       "   'metadata': {'contacts': [],\n",
       "                'description': '',\n",
       "                'flags': [],\n",
       "                'metadata': [],\n",
       "                'title': 'index'},\n",
       "   'name': 'index',\n",
       "   'organization_id': '92161827-b871-4ab5-8857-c895e7fa863c'}]}"
      ]
     },
     "execution_count": 7,
     "metadata": {},
     "output_type": "execute_result"
    }
   ],
   "source": [
    "dataSetMetadataAPI.get_data_set_columns_metadata(request_body = ['6cd52949-88af-4179-a8f1-93336d5d9a71'])"
   ]
  },
  {
   "cell_type": "markdown",
   "metadata": {},
   "source": [
    "## To update metadata...\n",
    "\n",
    "Pass in the metadata object with the appropriate metadata information. \n",
    "\n",
    "Pass in data set UUID to `update_data_set_metadata`, and if also updating column, pass in column UUID to `update_data_set_column_metadata`. "
   ]
  },
  {
   "cell_type": "code",
   "execution_count": 12,
   "metadata": {},
   "outputs": [],
   "source": [
    "metadata = openlattice.SecurableObjectMetadataUpdate(title = \"Bye\", contacts = ['yue@openlattice.com'])\n",
    "dataSetMetadataAPI.update_data_set_metadata(\n",
    "    '6cd52949-88af-4179-a8f1-93336d5d9a71', \n",
    "    securable_object_metadata_update = metadata\n",
    ")"
   ]
  },
  {
   "cell_type": "code",
   "execution_count": 13,
   "metadata": {},
   "outputs": [
    {
     "data": {
      "text/plain": [
       "{'6cd52949-88af-4179-a8f1-93336d5d9a71': {'data_set_type': 'ExternalTable',\n",
       "  'external_id': '1778717381',\n",
       "  'id': '6cd52949-88af-4179-a8f1-93336d5d9a71',\n",
       "  'metadata': {'contacts': ['yue@openlattice.com'],\n",
       "               'description': '',\n",
       "               'flags': [],\n",
       "               'metadata': [],\n",
       "               'title': 'Bye'},\n",
       "  'name': 'new_test_data',\n",
       "  'organization_id': '92161827-b871-4ab5-8857-c895e7fa863c'}}"
      ]
     },
     "execution_count": 13,
     "metadata": {},
     "output_type": "execute_result"
    }
   ],
   "source": [
    "dataSetMetadataAPI.get_data_sets_metadata(request_body = ['6cd52949-88af-4179-a8f1-93336d5d9a71'])"
   ]
  },
  {
   "cell_type": "code",
   "execution_count": 14,
   "metadata": {},
   "outputs": [],
   "source": [
    "dataSetMetadataAPI.update_data_set_column_metadata(\n",
    "    '6cd52949-88af-4179-a8f1-93336d5d9a71', \n",
    "    '82333f39-25f7-4d85-87c5-24e2d79e05d6', \n",
    "    securable_object_metadata_update = metadata\n",
    ")"
   ]
  },
  {
   "cell_type": "code",
   "execution_count": 15,
   "metadata": {},
   "outputs": [
    {
     "data": {
      "text/plain": [
       "{'acl_key': ['6cd52949-88af-4179-a8f1-93336d5d9a71',\n",
       "             '82333f39-25f7-4d85-87c5-24e2d79e05d6'],\n",
       " 'data_set_id': '6cd52949-88af-4179-a8f1-93336d5d9a71',\n",
       " 'data_type': 'BIGINT',\n",
       " 'id': '82333f39-25f7-4d85-87c5-24e2d79e05d6',\n",
       " 'metadata': {'contacts': ['yue@openlattice.com'],\n",
       "              'description': '',\n",
       "              'flags': [],\n",
       "              'metadata': [],\n",
       "              'title': 'Bye'},\n",
       " 'name': 'b',\n",
       " 'organization_id': '92161827-b871-4ab5-8857-c895e7fa863c'}"
      ]
     },
     "execution_count": 15,
     "metadata": {},
     "output_type": "execute_result"
    }
   ],
   "source": [
    "dataSetMetadataAPI.get_data_set_column_metadata(\n",
    "    '6cd52949-88af-4179-a8f1-93336d5d9a71', \n",
    "    '82333f39-25f7-4d85-87c5-24e2d79e05d6'\n",
    ")"
   ]
  },
  {
   "cell_type": "code",
   "execution_count": null,
   "metadata": {},
   "outputs": [],
   "source": []
  },
  {
   "cell_type": "code",
   "execution_count": null,
   "metadata": {},
   "outputs": [],
   "source": []
  }
 ],
 "metadata": {
  "kernelspec": {
   "display_name": "Python 3",
   "language": "python",
   "name": "python3"
  },
  "language_info": {
   "codemirror_mode": {
    "name": "ipython",
    "version": 3
   },
   "file_extension": ".py",
   "mimetype": "text/x-python",
   "name": "python",
   "nbconvert_exporter": "python",
   "pygments_lexer": "ipython3",
   "version": "3.7.6"
  }
 },
 "nbformat": 4,
 "nbformat_minor": 4
}
