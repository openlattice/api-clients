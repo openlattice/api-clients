{
 "cells": [
  {
   "cell_type": "markdown",
   "metadata": {},
   "source": [
    "### Permissioning non-standardized data in the ADE\n",
    "Technically speaking, access to a table in the Agency Data Exchange is defined by:\n",
    "- the Access Control Entry (ACE): the identifier of the user (Step 3 below)\n",
    "- the Access Control List Key (ACL-key): the identifier of the data to give access on (Steps 1 & 2 below)"
   ]
  },
  {
   "cell_type": "markdown",
   "metadata": {},
   "source": [
    "As in the previous notebooks, we start by loading the libraries, setting up OpenLattice authentication, and loading OpenLattice API-clients.  \n",
    "_Note_ for instructions on how to install the `openlattice` python library of APIs, please see [this link](https://help.openlattice.com/article/104-overview-and-installation-of-api-clients)"
   ]
  },
  {
   "cell_type": "code",
   "execution_count": 7,
   "metadata": {
    "scrolled": false
   },
   "outputs": [],
   "source": [
    "import pandas as pd\n",
    "import openlattice\n",
    "import requests\n",
    "import olpy\n",
    "import uuid\n",
    "import sys\n",
    "import os"
   ]
  },
  {
   "cell_type": "markdown",
   "metadata": {},
   "source": [
    "Set up your Openlattice authentication. Find your jwt token from the tab called `Account` in the upper left after logging in here: https://\n",
    "openlattice.com/orgs/#/orgs.\n"
   ]
  },
  {
   "cell_type": "code",
   "execution_count": 8,
   "metadata": {
    "scrolled": false
   },
   "outputs": [],
   "source": [
    "baseurl = 'https://api.openlattice.com' # prod\n",
    "jwt = \"***\"\n",
    "\n",
    "configuration = openlattice.Configuration()\n",
    "configuration.host = baseurl\n",
    "configuration.access_token = jwt"
   ]
  },
  {
   "cell_type": "markdown",
   "metadata": {},
   "source": [
    "Import the necessary Openlattice APIs for the tasks at hand. These rely on the \"configuration\" object we made above, that holds one's authentication."
   ]
  },
  {
   "cell_type": "code",
   "execution_count": 9,
   "metadata": {
    "scrolled": false
   },
   "outputs": [],
   "source": [
    "principalAPI = openlattice.PrincipalApi(openlattice.ApiClient(configuration))\n",
    "edmAPI = openlattice.EdmApi(openlattice.ApiClient(configuration))\n",
    "entitysetsAPI = openlattice.EntitySetsApi(openlattice.ApiClient(configuration))\n",
    "permissionsAPI = openlattice.PermissionsApi(openlattice.ApiClient(configuration))\n",
    "dataAPI = openlattice.DataApi(openlattice.ApiClient(configuration))\n",
    "datasetAPI = openlattice.DatasetApi(openlattice.ApiClient(configuration))\n",
    "orgAPI = openlattice.OrganizationsApi(openlattice.ApiClient(configuration))\n",
    "authorizationsAPI = openlattice.AuthorizationsApi(openlattice.ApiClient(configuration))"
   ]
  },
  {
   "cell_type": "markdown",
   "metadata": {},
   "source": [
    "### 1. Creating the ACL-key:  Look up the id_table and id_column\n",
    "In the OpenLattice backend, each table and column within it has a unique identifying UUID (in case names might overlap), that one needs to input while using the OpenLattice Permissions API.  \n",
    "If one is a member of an organization and knows the OrgID, you can grab the datasets and their metadata for all data that you have access to.\n",
    "- obtain the Organization ID from the Openlattice Orgs app, in the landing page for that specific organization. (https://openlattice.com/orgs/)"
   ]
  },
  {
   "cell_type": "code",
   "execution_count": 10,
   "metadata": {
    "scrolled": false
   },
   "outputs": [],
   "source": [
    "OrgId = '1d5aa1f4-4d22-46a5-97cd-dcc6820e7ff8' #Openlattice Demo Org"
   ]
  },
  {
   "cell_type": "code",
   "execution_count": 11,
   "metadata": {
    "scrolled": false
   },
   "outputs": [
    {
     "name": "stdout",
     "output_type": "stream",
     "text": [
      "3\n"
     ]
    },
    {
     "data": {
      "text/plain": [
       "[{'description': '',\n",
       "  'id': '25193301-2413-4054-89e6-ef9721f5cec6',\n",
       "  'name': 'zzz_bhr_entities_clean_2020_5_26_17_27_3_PST',\n",
       "  'organization_id': '1d5aa1f4-4d22-46a5-97cd-dcc6820e7ff8',\n",
       "  'title': 'zzz_bhr_entities_clean_2020_5_26_17_27_3_PST'},\n",
       " {'description': '',\n",
       "  'id': '3c0262e1-075a-4d1a-a73d-440ba619929e',\n",
       "  'name': 'fake_people',\n",
       "  'organization_id': '1d5aa1f4-4d22-46a5-97cd-dcc6820e7ff8',\n",
       "  'title': 'fake_people'},\n",
       " {'description': 'This is a dataset including demo arrests',\n",
       "  'id': 'f92f80d7-1288-4cd2-9e1c-2d6393b03b94',\n",
       "  'name': 'demo_arrests',\n",
       "  'organization_id': '1d5aa1f4-4d22-46a5-97cd-dcc6820e7ff8',\n",
       "  'title': 'demo_arrests'}]"
      ]
     },
     "execution_count": 11,
     "metadata": {},
     "output_type": "execute_result"
    }
   ],
   "source": [
    "atlas_tables = datasetAPI.get_external_database_tables(\n",
    "    organization_id = OrgId)\n",
    "print(len(atlas_tables))\n",
    "atlas_tables"
   ]
  },
  {
   "cell_type": "markdown",
   "metadata": {},
   "source": [
    "Many times one has to filter out only the tables we want to permission at the moment. Here I've used a partial string search to grab only the tables I want in this example. "
   ]
  },
  {
   "cell_type": "code",
   "execution_count": 14,
   "metadata": {
    "scrolled": true
   },
   "outputs": [
    {
     "name": "stdout",
     "output_type": "stream",
     "text": [
      "2\n"
     ]
    },
    {
     "data": {
      "text/plain": [
       "[{'description': '',\n",
       "  'id': '3c0262e1-075a-4d1a-a73d-440ba619929e',\n",
       "  'name': 'fake_people',\n",
       "  'organization_id': '1d5aa1f4-4d22-46a5-97cd-dcc6820e7ff8',\n",
       "  'title': 'fake_people'},\n",
       " {'description': 'This is a dataset including demo arrests',\n",
       "  'id': 'f92f80d7-1288-4cd2-9e1c-2d6393b03b94',\n",
       "  'name': 'demo_arrests',\n",
       "  'organization_id': '1d5aa1f4-4d22-46a5-97cd-dcc6820e7ff8',\n",
       "  'title': 'demo_arrests'}]"
      ]
     },
     "execution_count": 14,
     "metadata": {},
     "output_type": "execute_result"
    }
   ],
   "source": [
    "subset_tables = list(filter(lambda x: \"bhr\" not in x.name, atlas_tables))\n",
    "print(len(subset_tables))\n",
    "subset_tables"
   ]
  },
  {
   "cell_type": "markdown",
   "metadata": {},
   "source": [
    "There's often too many atlas tables (and with a lot of columns each) to grab all table and column IDs at once. We will therefore put it in the permissioning loop instead.  \n",
    "  \n",
    "  If you're interested in inspecting the objects in the loop further down, this is some code that I was using to figure things out."
   ]
  },
  {
   "cell_type": "code",
   "execution_count": null,
   "metadata": {
    "scrolled": true
   },
   "outputs": [],
   "source": [
    "### Testing out code for the loop\n",
    "\n",
    "# subset_tables[0].id                 #table ID \n",
    "# [x.id for x in subset_tables]         #all tableIDs in a list\n",
    "\n",
    "\n",
    "## Dictionary with keys 'columns', 'table'. List of dicts, one for each column in the table\n",
    "# table1_info = datasetAPI.get_external_database_table_with_column_metadata(\n",
    "#     organization_id = OrgId, table_id = subset_tables[0].id)     \n",
    "\n",
    "# table1_info.columns          \n",
    "# test = [x.id for x in table1_info.columns]           # list of columns IDs\n",
    "# test[0:2]"
   ]
  },
  {
   "cell_type": "markdown",
   "metadata": {},
   "source": [
    "### 2. Create the principal object that one is giving access to."
   ]
  },
  {
   "cell_type": "markdown",
   "metadata": {},
   "source": [
    "If we want to add permissions to a new user, we can search for their unique user id with the `principalApi`.  For example, if I want to look up myself (Kim Engie), I can search for my last name (less common than my first). In this example we are looking up a headless account, `datascience@openlattice.com`.  \n",
    "\n",
    "What we need is the `user_id` for each person. To give permissions to > 1 user at a time, find all of their principals and put them in a list.  \n",
    "  \n",
    "_TIPS:_ If you can't find someone by last name try putting a `*` in front of it (e.g., `*engie`)"
   ]
  },
  {
   "cell_type": "markdown",
   "metadata": {},
   "source": [
    "**Permissioning to individual users**"
   ]
  },
  {
   "cell_type": "code",
   "execution_count": null,
   "metadata": {
    "scrolled": true
   },
   "outputs": [],
   "source": [
    "## find principals for users \n",
    "principalAPI.search_all_users(\"kim\")"
   ]
  },
  {
   "cell_type": "code",
   "execution_count": 13,
   "metadata": {
    "scrolled": false
   },
   "outputs": [],
   "source": [
    "## Create the principal. \n",
    "\n",
    "# for one person\n",
    "# perm_principal = openlattice.Principal(type=\"USER\", id= \"google-oauth2|106178747462282285391\") \n",
    "\n",
    "# for several people\n",
    "# users\n",
    "users = [\n",
    "    'auth0|5efbb1d8228149001965962a', # Yue\n",
    "    'google-oauth2|104846254649175859508', # Kim\n",
    "    'google-oauth2|105940757369523086021' # Nate\n",
    "]"
   ]
  },
  {
   "cell_type": "markdown",
   "metadata": {},
   "source": [
    "#### Permissioning to roles"
   ]
  },
  {
   "cell_type": "markdown",
   "metadata": {},
   "source": [
    "If we want to add permissions to a role, we can search for its id with the `orgApi`.  Find the OrgID in the Openlattice orgs app here: https://\n",
    "openlattice.com/orgs/#/orgs.  \n",
    "  \n",
    "To give permissions to > 1 role at a time, find all of their principals and put them in a list.  "
   ]
  },
  {
   "cell_type": "code",
   "execution_count": 15,
   "metadata": {},
   "outputs": [
    {
     "data": {
      "text/plain": [
       "{'apps': ['53b897aa-e3ac-4952-bf85-3a5822882c78',\n",
       "          'c787c494-61f5-43c7-8831-8c7a11c2740a',\n",
       "          'a77cd2d1-03c4-4dae-ad5c-a836251310fd',\n",
       "          '26abca5c-4502-4d8c-80ce-795807266881',\n",
       "          '570488a2-5ea2-44eb-92bc-07e88c6440f3',\n",
       "          '73dd2cc3-38ec-405f-b551-c8c69b45bdcf',\n",
       "          'a3ba1424-71d9-4fb2-8671-6e94f4e0b7c3',\n",
       "          'fa6452b9-bd57-48af-a217-b289d453b4fb',\n",
       "          '77cb2821-38ab-4ffb-b923-8965781f0697',\n",
       "          '169a87a9-f88c-4bb8-93b8-6025dca19b0e',\n",
       "          '100d99db-b163-4b4c-a9bd-d3c80b57d34c',\n",
       "          '7d2f9be9-8168-433a-921f-99422248f279',\n",
       "          '1a0f6f10-bbc8-47ee-b0cd-086a52825b43'],\n",
       " 'description': '*Organization for Demo purposes. Data belonging to this org '\n",
       "                'are fictional and used for demonstration purposes.*',\n",
       " 'emails': None,\n",
       " 'id': '1d5aa1f4-4d22-46a5-97cd-dcc6820e7ff8',\n",
       " 'members': [{'id': 'auth0|5e3984d7acc5260ee96d483e', 'type': 'USER'},\n",
       "             {'id': 'google-oauth2|101142855019542997876', 'type': 'USER'},\n",
       "             {'id': 'auth0|5c54cb96aa7fb077f1f54678', 'type': 'USER'},\n",
       "             {'id': 'auth0|5e4ea6c3226f160c98438b6d', 'type': 'USER'},\n",
       "             {'id': 'auth0|60d250ae170ab700687264e8', 'type': 'USER'},\n",
       "             {'id': 'auth0|5cb0f1623d89760f2b9252b0', 'type': 'USER'},\n",
       "             {'id': 'google-oauth2|101678458824110660197', 'type': 'USER'},\n",
       "             {'id': 'auth0|5d2f1fefbdb6e90eed089990', 'type': 'USER'},\n",
       "             {'id': 'adfs|DaneCounty|jcm@daneco.us', 'type': 'USER'},\n",
       "             {'id': 'auth0|5d83d8a8ddf3390dc7ebf4a1', 'type': 'USER'},\n",
       "             {'id': 'auth0|5dba492f390c8a0e67180bf1', 'type': 'USER'},\n",
       "             {'id': 'auth0|610444bcccd3d90071a61b14', 'type': 'USER'},\n",
       "             {'id': 'auth0|5a8728bc6937c17375551610', 'type': 'USER'},\n",
       "             {'id': 'auth0|5a31601e1774bd0d5ace293b', 'type': 'USER'},\n",
       "             {'id': 'auth0|5e387b9dba97f10e91f0b220', 'type': 'USER'},\n",
       "             {'id': 'auth0|5d710a5320e4cb0e22eaae51', 'type': 'USER'},\n",
       "             {'id': 'adfs|DaneCounty|sm61@daneco.us', 'type': 'USER'},\n",
       "             {'id': 'waad|BLgnSnVucqBe8atkpPAi0YKdTcm6ZbCKvugb8vGMwpg',\n",
       "              'type': 'USER'},\n",
       "             {'id': 'google-oauth2|101182098870179102992', 'type': 'USER'},\n",
       "             {'id': 'auth0|5d0c1502deb4ef0d29eb8857', 'type': 'USER'},\n",
       "             {'id': 'auth0|605e284cf2613a006a646528', 'type': 'USER'},\n",
       "             {'id': 'auth0|5e73e8c63606030cece206ad', 'type': 'USER'},\n",
       "             {'id': 'google-oauth2|113037493520808582751', 'type': 'USER'},\n",
       "             {'id': 'auth0|5f3321dffdd033003de6be65', 'type': 'USER'},\n",
       "             {'id': 'google-oauth2|107425121953261713374', 'type': 'USER'},\n",
       "             {'id': 'auth0|5e67fdc0c1c9df0dc8080d4f', 'type': 'USER'},\n",
       "             {'id': 'google-oauth2|111525266688180365087', 'type': 'USER'},\n",
       "             {'id': 'auth0|60cb9d98126ff100680ce514', 'type': 'USER'},\n",
       "             {'id': 'google-oauth2|100942112311834145636', 'type': 'USER'},\n",
       "             {'id': 'auth0|5a81f947f5c8213cb27b86c0', 'type': 'USER'},\n",
       "             {'id': 'google-oauth2|106178747462282285391', 'type': 'USER'},\n",
       "             {'id': 'google-oauth2|103517860643296644279', 'type': 'USER'},\n",
       "             {'id': 'google-oauth2|107437094441759604504', 'type': 'USER'},\n",
       "             {'id': 'auth0|60d619dc6148d3007032eef0', 'type': 'USER'},\n",
       "             {'id': 'auth0|5d0bbcd5a294ec0e00578409', 'type': 'USER'},\n",
       "             {'id': 'auth0|5e4e9839be91000e90d6219c', 'type': 'USER'},\n",
       "             {'id': 'google-oauth2|104597357918333371914', 'type': 'USER'},\n",
       "             {'id': 'google-oauth2|105294236158193350026', 'type': 'USER'},\n",
       "             {'id': 'google-oauth2|111217905729187378734', 'type': 'USER'},\n",
       "             {'id': 'auth0|5ec533a8706a330c55d8cea8', 'type': 'USER'},\n",
       "             {'id': 'auth0|60ff027f899a54006ee99995', 'type': 'USER'},\n",
       "             {'id': 'auth0|5bef02d65e900369483e5cbd', 'type': 'USER'},\n",
       "             {'id': 'auth0|611d547d8b633a007297790c', 'type': 'USER'},\n",
       "             {'id': 'google-oauth2|105202361306857196794', 'type': 'USER'},\n",
       "             {'id': 'auth0|5a81b2f4f5c8213cb27b6dec', 'type': 'USER'},\n",
       "             {'id': 'auth0|5d004125b4b3990d687efda7', 'type': 'USER'},\n",
       "             {'id': 'auth0|5c0c3e70e978c52e154f11b7', 'type': 'USER'},\n",
       "             {'id': 'google-oauth2|116159767017731106587', 'type': 'USER'},\n",
       "             {'id': 'google-oauth2|105556917011402558491', 'type': 'USER'},\n",
       "             {'id': 'google-oauth2|104846254649175859508', 'type': 'USER'},\n",
       "             {'id': 'google-oauth2|110408819902153436575', 'type': 'USER'},\n",
       "             {'id': 'auth0|601ae8f874ec65006992affa', 'type': 'USER'},\n",
       "             {'id': 'auth0|5e4abb39fd4aec0ee3cc82fe', 'type': 'USER'},\n",
       "             {'id': 'google-oauth2|106657358205444003736', 'type': 'USER'},\n",
       "             {'id': 'google-oauth2|110807861344337558397', 'type': 'USER'},\n",
       "             {'id': 'waad|hCFNg_HFlVsareo74YCXITwkTilFZ8Y5mf4Mp8ugVG4',\n",
       "              'type': 'USER'},\n",
       "             {'id': 'adfs|KitsapCounty|psapp@co.kitsap.wa.us', 'type': 'USER'},\n",
       "             {'id': 'auth0|60cb9a0927b3820070550dac', 'type': 'USER'},\n",
       "             {'id': 'google-oauth2|116093665918267560000', 'type': 'USER'},\n",
       "             {'id': 'waad|XP7Gf8WN84VrM-gJVee7oZXduawq-bgTm_fbPlbXB4U',\n",
       "              'type': 'USER'},\n",
       "             {'id': 'auth0|5c64d5cc90411647d0f58b50', 'type': 'USER'},\n",
       "             {'id': 'auth0|59fbd99656e59806200e631c', 'type': 'USER'},\n",
       "             {'id': 'auth0|5f7f8bc3cad50b006ee355b6', 'type': 'USER'},\n",
       "             {'id': 'auth0|5a3168fcb7186a09a84f54bc', 'type': 'USER'},\n",
       "             {'id': 'auth0|5b030e6a5d7d1617fd7e2e8a', 'type': 'USER'},\n",
       "             {'id': 'adfs|KitsapCounty|pmilovic@co.kitsap.wa.us',\n",
       "              'type': 'USER'},\n",
       "             {'id': 'auth0|60f0cdeafaf48100691b672f', 'type': 'USER'},\n",
       "             {'id': 'auth0|5b3e1b08f3d20a5de662b6f2', 'type': 'USER'},\n",
       "             {'id': 'google-oauth2|112828474209929782355', 'type': 'USER'}],\n",
       " 'partitions': [49, 50],\n",
       " 'principal': {'id': 'OpenLatticeDemoOrg', 'type': 'ORGANIZATION'},\n",
       " 'roles': [{'description': '',\n",
       "            'id': 'd3e67552-d849-4696-9d67-8a1c489ec666',\n",
       "            'organization_id': '1d5aa1f4-4d22-46a5-97cd-dcc6820e7ff8',\n",
       "            'principal': {'id': '1d5aa1f4-4d22-46a5-97cd-dcc6820e7ff8|DemoData_Write',\n",
       "                          'type': 'ROLE'},\n",
       "            'title': 'DemoData_Write'},\n",
       "           {'description': 'OWNER permission for the Astrometrics app',\n",
       "            'id': 'aa7417a5-21d3-41d1-8473-63d5340ec551',\n",
       "            'organization_id': '1d5aa1f4-4d22-46a5-97cd-dcc6820e7ff8',\n",
       "            'principal': {'id': '1d5aa1f4-4d22-46a5-97cd-dcc6820e7ff8|Astrometrics '\n",
       "                                '- OWNER',\n",
       "                          'type': 'ROLE'},\n",
       "            'title': 'Astrometrics - OWNER'},\n",
       "           {'description': 'READ permission for the Behavioral Health Report '\n",
       "                           'app',\n",
       "            'id': '212fe5e8-8ce6-4d15-aa3e-b94025001d2f',\n",
       "            'organization_id': '1d5aa1f4-4d22-46a5-97cd-dcc6820e7ff8',\n",
       "            'principal': {'id': '1d5aa1f4-4d22-46a5-97cd-dcc6820e7ff8|Behavioral '\n",
       "                                'Health Report - READ',\n",
       "                          'type': 'ROLE'},\n",
       "            'title': 'Behavioral Health Report - READ'},\n",
       "           {'description': 'READ permission for the Astrometrics app',\n",
       "            'id': 'ea1d9e06-1e06-489d-b286-52ace7e12191',\n",
       "            'organization_id': '1d5aa1f4-4d22-46a5-97cd-dcc6820e7ff8',\n",
       "            'principal': {'id': '1d5aa1f4-4d22-46a5-97cd-dcc6820e7ff8|Astrometrics '\n",
       "                                '- READ',\n",
       "                          'type': 'ROLE'},\n",
       "            'title': 'Astrometrics - READ'},\n",
       "           {'description': '',\n",
       "            'id': '5e2762e6-bfac-44c9-808a-97fe75c80ded',\n",
       "            'organization_id': '1d5aa1f4-4d22-46a5-97cd-dcc6820e7ff8',\n",
       "            'principal': {'id': '1d5aa1f4-4d22-46a5-97cd-dcc6820e7ff8|DemoData_Read',\n",
       "                          'type': 'ROLE'},\n",
       "            'title': 'DemoData_Read'},\n",
       "           {'description': 'READ permission for the Codex app',\n",
       "            'id': 'e472cf2e-f376-413a-8836-f3333e0ee63f',\n",
       "            'organization_id': '1d5aa1f4-4d22-46a5-97cd-dcc6820e7ff8',\n",
       "            'principal': {'id': '1d5aa1f4-4d22-46a5-97cd-dcc6820e7ff8|Codex - '\n",
       "                                'READ',\n",
       "                          'type': 'ROLE'},\n",
       "            'title': 'Codex - READ'},\n",
       "           {'description': 'OWNER permission for the Behavioral Health Report '\n",
       "                           'app',\n",
       "            'id': 'c7eacf8f-7bcc-4093-a62f-64657d7f1ca5',\n",
       "            'organization_id': '1d5aa1f4-4d22-46a5-97cd-dcc6820e7ff8',\n",
       "            'principal': {'id': '1d5aa1f4-4d22-46a5-97cd-dcc6820e7ff8|Behavioral '\n",
       "                                'Health Report - OWNER',\n",
       "                          'type': 'ROLE'},\n",
       "            'title': 'Behavioral Health Report - OWNER'},\n",
       "           {'description': '*A role to be used as an example for how to create '\n",
       "                           'a role*',\n",
       "            'id': '32c1cd28-42c3-47da-bd34-dd3ae5bd13fb',\n",
       "            'organization_id': '1d5aa1f4-4d22-46a5-97cd-dcc6820e7ff8',\n",
       "            'principal': {'id': '1d5aa1f4-4d22-46a5-97cd-dcc6820e7ff8|AnExampleRole',\n",
       "                          'type': 'ROLE'},\n",
       "            'title': 'An Example Role for Demonstrations'},\n",
       "           {'description': 'WRITE permission for the Astrometrics app',\n",
       "            'id': '3aa4bdb8-04dc-4d1d-af13-c049fd93734c',\n",
       "            'organization_id': '1d5aa1f4-4d22-46a5-97cd-dcc6820e7ff8',\n",
       "            'principal': {'id': '1d5aa1f4-4d22-46a5-97cd-dcc6820e7ff8|Astrometrics '\n",
       "                                '- WRITE',\n",
       "                          'type': 'ROLE'},\n",
       "            'title': 'Astrometrics - WRITE'},\n",
       "           {'description': 'An analyst at CDII - Someone who works with the '\n",
       "                           'Vital Signs dataset',\n",
       "            'id': 'f148f118-937b-4ef3-acd9-a4182121e7f3',\n",
       "            'organization_id': '1d5aa1f4-4d22-46a5-97cd-dcc6820e7ff8',\n",
       "            'principal': {'id': '1d5aa1f4-4d22-46a5-97cd-dcc6820e7ff8|CDIIAnalyst',\n",
       "                          'type': 'ROLE'},\n",
       "            'title': 'CDII Analyst'},\n",
       "           {'description': 'WRITE permission for the Behavioral Health Report '\n",
       "                           'app',\n",
       "            'id': 'f406d71c-839a-4623-9de5-8f9149adea66',\n",
       "            'organization_id': '1d5aa1f4-4d22-46a5-97cd-dcc6820e7ff8',\n",
       "            'principal': {'id': '1d5aa1f4-4d22-46a5-97cd-dcc6820e7ff8|Behavioral '\n",
       "                                'Health Report - WRITE',\n",
       "                          'type': 'ROLE'},\n",
       "            'title': 'Behavioral Health Report - WRITE'},\n",
       "           {'description': '',\n",
       "            'id': '9263d377-8d8a-48b2-ba78-397c9f207b74',\n",
       "            'organization_id': '1d5aa1f4-4d22-46a5-97cd-dcc6820e7ff8',\n",
       "            'principal': {'id': '1d5aa1f4-4d22-46a5-97cd-dcc6820e7ff8|EssentialCareProviderServiceREAD',\n",
       "                          'type': 'ROLE'},\n",
       "            'title': 'Essential Care Provider Service - READ'},\n",
       "           {'description': '',\n",
       "            'id': '3262e283-f59f-4d37-9e40-8f837c4c2e51',\n",
       "            'organization_id': '1d5aa1f4-4d22-46a5-97cd-dcc6820e7ff8',\n",
       "            'principal': {'id': '1d5aa1f4-4d22-46a5-97cd-dcc6820e7ff8|DemoData_Owner',\n",
       "                          'type': 'ROLE'},\n",
       "            'title': 'DemoData_Owner'}],\n",
       " 'sms_entity_set_info': [{'entityset_ids': None,\n",
       "                          'organization_id': '1d5aa1f4-4d22-46a5-97cd-dcc6820e7ff8',\n",
       "                          'phone_number': '+16506703730',\n",
       "                          'tags': []}],\n",
       " 'title': 'OpenLattice Demo Org'}"
      ]
     },
     "execution_count": 15,
     "metadata": {},
     "output_type": "execute_result"
    }
   ],
   "source": [
    "# This code is to pull up the roles you want, to be used in the next cell.\n",
    "OrgId = '1d5aa1f4-4d22-46a5-97cd-dcc6820e7ff8' # Openlattice Demo Org\n",
    "org = orgAPI.get_organization(OrgId)\n",
    "org"
   ]
  },
  {
   "cell_type": "code",
   "execution_count": 9,
   "metadata": {},
   "outputs": [],
   "source": [
    "### Create the principal for roles\n",
    "\n",
    "## For one role - \n",
    "# roleid = \"1d5aa1f4-4d22-46a5-97cd-dcc6820e7ff8|DemoData_Write\"\n",
    "\n",
    "## For several\n",
    "recipient_perms = [\n",
    "        (\"1d5aa1f4-4d22-46a5-97cd-dcc6820e7ff8|DemoData_Read\", [\"READ\"]),\n",
    "        (\"1d5aa1f4-4d22-46a5-97cd-dcc6820e7ff8|DemoData_Write\", [\"WRITE\"]),\n",
    "        (\"1d5aa1f4-4d22-46a5-97cd-dcc6820e7ff8|DemoData_Owner\", [\"OWNER\"])\n",
    "    ]"
   ]
  },
  {
   "cell_type": "markdown",
   "metadata": {},
   "source": [
    "### 3. Give permissions\n",
    "We loop over the dictionary constructed in Step 1, and grant access to the principal in Step 2. Again, access is defined by:\n",
    "- the Access Control Entry (ACE): the identifier of the user\n",
    "- the Access Control List Key (ACL-key): the identifier of the data to give access on\n",
    "\n",
    "The permissions API goes through and gives permissions to each column in a table separately.  \n",
    "  \n",
    "NOTE: for column permissions, one needs to specify both the tableID and columnID"
   ]
  },
  {
   "cell_type": "markdown",
   "metadata": {},
   "source": [
    "**Example 1.** Using `update_acls`, one call per table for ALL permissions we will give to this table. We are adding permissions for 3 roles, to all columns, and to the table object itself as well, in 1 call."
   ]
  },
  {
   "cell_type": "code",
   "execution_count": null,
   "metadata": {},
   "outputs": [],
   "source": [
    "# For multiple roles\n",
    "for table in subset_tables:\n",
    "    acl_data = []\n",
    "    for x in recipient_perms:\n",
    "        perm_principal = openlattice.Principal(type=\"ROLE\", id= x[0]) \n",
    "        print(f\"Gathering ACLs for {x[1]} access to columns in {table.name}\")    \n",
    "\n",
    "        ace = openlattice.Ace(\n",
    "                principal = perm_principal,\n",
    "                permissions = x[1]\n",
    "            )\n",
    "        # get column IDs\n",
    "        table_info = datasetAPI.get_external_database_table_with_column_metadata(\n",
    "            organization_id = OrgId, table_id = table.id)\n",
    "        columnIDs = [x.id for x in table_info.columns]\n",
    "        \n",
    "        # Get acl for each column\n",
    "        for column in columnIDs:\n",
    "            col_acldata = openlattice.AclData(action = \"ADD\",\n",
    "                                              acl = openlattice.Acl(acl_key = [table.id, column],\n",
    "                                                                    aces = [ace]))\n",
    "\n",
    "            acl_data.append(col_acldata)\n",
    "\n",
    "    # Get acl for the table itself\n",
    "    t_acldata = openlattice.AclData(action = \"ADD\",\n",
    "                                  acl = openlattice.Acl(acl_key = [table.id],aces = [ace]))\n",
    "    print(f\"Gathered all ACLs for access to table {table.name}\")\n",
    "\n",
    "    acl_data.append(t_acldata)\n",
    "#     print(len(acl_data))\n",
    "                                     \n",
    "    permissionsAPI.update_acls(acl_data)\n",
    "    print(f\"Updated permissions to table {table.name}\")\n"
   ]
  },
  {
   "cell_type": "markdown",
   "metadata": {},
   "source": [
    "**Example 2.** Assigning permissions to multiple users at a time. This is using the original `update_acl` call, which only contains 1 permission change per request - its harder on the stack. Hasn't been modified yet to use `update_acls` but can to be similar to Example 1."
   ]
  },
  {
   "cell_type": "code",
   "execution_count": null,
   "metadata": {
    "scrolled": false
   },
   "outputs": [],
   "source": [
    "# for multiple people\n",
    "for user in users:\n",
    "    perm_principal = openlattice.Principal(type=\"USER\", id= user) \n",
    "    print(f\"Giving access for {user}\")\n",
    "    for table, columns in tables_to_give_access.items():\n",
    "        for column in columns:\n",
    "            print(\"Giving access on column %s on table %s to %s\"%(column, table, user))\n",
    "    #         row = datasets_with_columns.loc[(table, column)]\n",
    "            row = datasets_with_columns.loc[(datasets_with_columns['name_table'] == table) & \\\n",
    "                                            (datasets_with_columns['name_column'] == column)]\n",
    "            ace = openlattice.Ace(\n",
    "                principal = perm_principal,\n",
    "                permissions = [\"READ\", \"WRITE\", \"OWNER\"]\n",
    "            )\n",
    "\n",
    "            acldata = openlattice.AclData(action = \"ADD\",\n",
    "                                acl = openlattice.Acl(acl_key = [str(row.id_table.iloc[0]), str(row.id_column.iloc[0])],aces = [ace])\n",
    "                                         )\n",
    "            permissionsAPI.update_acl(acldata)"
   ]
  },
  {
   "cell_type": "markdown",
   "metadata": {},
   "source": [
    "**Example 3.** Same as example 2, but if you are only gicving permissions to one user."
   ]
  },
  {
   "cell_type": "code",
   "execution_count": 38,
   "metadata": {
    "scrolled": false
   },
   "outputs": [
    {
     "name": "stdout",
     "output_type": "stream",
     "text": [
      "Giving access on column Name on table cdss_facilities_from_agol\n",
      "Giving access on column Program on table cdss_facilities_from_agol\n",
      "Giving access on column Facility_Number on table cdss_facilities_from_agol\n",
      "Giving access on column Facility_Type on table cdss_facilities_from_agol\n",
      "Giving access on column Serves on table cdss_facilities_from_agol\n",
      "Giving access on column Serves_Code on table cdss_facilities_from_agol\n",
      "Giving access on column Capacity on table cdss_facilities_from_agol\n",
      "Giving access on column Status on table cdss_facilities_from_agol\n",
      "Giving access on column Telephone on table cdss_facilities_from_agol\n",
      "Giving access on column Address on table cdss_facilities_from_agol\n",
      "Giving access on column City on table cdss_facilities_from_agol\n",
      "Giving access on column Zip_Code on table cdss_facilities_from_agol\n",
      "Giving access on column Latitude on table cdss_facilities_from_agol\n",
      "Giving access on column Longitude on table cdss_facilities_from_agol\n",
      "Giving access on column FID on table cdss_facilities_from_agol\n",
      "Giving access on column geom on table cdss_facilities_from_agol\n"
     ]
    }
   ],
   "source": [
    "# for 1 person\n",
    "for table, columns in tables_to_give_access.items():\n",
    "    for column in columns:\n",
    "        print(\"Giving access on column %s on table %s\"%(column, table))\n",
    "#         row = datasets_with_columns.loc[(table, column)]\n",
    "        row = datasets_with_columns.loc[(datasets_with_columns['name_table'] == table) & \\\n",
    "                                        (datasets_with_columns['name_column'] == column)]\n",
    "        ace = openlattice.Ace(\n",
    "            principal = perm_principal,\n",
    "            permissions = [\"READ\"]\n",
    "        )\n",
    "\n",
    "        acldata = openlattice.AclData(action = \"ADD\",\n",
    "                            acl = openlattice.Acl(acl_key = [str(row.id_table.iloc[0]), str(row.id_column.iloc[0])],aces = [ace])\n",
    "                                     )\n",
    "        permissionsAPI.update_acl(acldata)"
   ]
  },
  {
   "cell_type": "code",
   "execution_count": null,
   "metadata": {
    "scrolled": false
   },
   "outputs": [],
   "source": []
  }
 ],
 "metadata": {
  "kernelspec": {
   "display_name": "Python 3",
   "language": "python",
   "name": "python3"
  },
  "language_info": {
   "codemirror_mode": {
    "name": "ipython",
    "version": 3
   },
   "file_extension": ".py",
   "mimetype": "text/x-python",
   "name": "python",
   "nbconvert_exporter": "python",
   "pygments_lexer": "ipython3",
   "version": "3.7.10"
  }
 },
 "nbformat": 4,
 "nbformat_minor": 4
}
