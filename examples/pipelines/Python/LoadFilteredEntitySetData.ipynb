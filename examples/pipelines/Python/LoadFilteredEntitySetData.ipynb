{
 "cells": [
  {
   "cell_type": "markdown",
   "metadata": {},
   "source": [
    "# Using LoadFilteredEntitySetData endpoint\n",
    "\n",
    "This tutorial walks through how to use the load filtered entity set data endpoint. This API call is useful since you can only download 10k hits at a time through our API. This lets you mark the last entity key downloaded and filters for the next page of results. \n",
    "\n",
    "If you're using the API directly, you will use:\n",
    "\n",
    "`POST <baseurl>/datastore/data/set/<entitySetId>/filtered`\n",
    "\n",
    "where the base url is either api.openlattice.com or integration.openlattice.com.\n",
    "\n",
    "## Possible request bodies:\n",
    "\n",
    "For a default search, (paging back max of 10000 results):\n",
    "`{}` \n",
    "\n",
    "To specify the total number of hits:\n",
    "```\n",
    "{\n",
    "    \"pageSize\" : 100\n",
    "}\n",
    "```\n",
    "\n",
    "To get the next page of results, you would take the entityKeyId of the last entity returned on the last page:\n",
    "```\n",
    "{\n",
    "  \"bookmarkId\": <last entityKeyId>\n",
    "}\n",
    "```\n",
    "If you want to use the filter, specify the propertyTypeId that you want to filter on, as well as the filter itself. For example, this this is using the DateTimeRangeFilter:\n",
    "\n",
    "```\n",
    "{\n",
    "    \"propertyTypeId\": \"0ee3acba-51a7-4f8d-921f-e23d75b07f65\",\n",
    "    \"filter\": {\n",
    "        \"@class\": \"com.openlattice.analysis.requests.DateTimeRangeFilter\",\n",
    "        \"lowerbound\": \"2000-10-29T01:19:12-04:00\"\n",
    "    }\n",
    "```\n",
    "\n",
    "This would filter for dates past 10/29/2000.\n",
    "\n",
    "Or, if you want to use a string filter, you can use:\n",
    "\n",
    "```\n",
    "{\n",
    "    \"propertyTypeId\": \"5260cfbd-bfa4-40c1-ade5-cd83cc9f99b2\",\n",
    "    \"filter\": {\n",
    "        \"@class\": \"com.openlattice.analysis.requests.StringValueFilter\",\n",
    "        \"values\": [\"Woman\"]\n",
    "    }\n",
    "}\n",
    "```\n",
    "This would filter for all values that include \"Woman\".\n",
    "\n",
    "## Python walkthrough\n",
    "\n",
    "To follow along, you will need to install [olpy](https://github.com/openlattice/olpy) and [openlattice](https://github.com/Lattice-Works/api-clients/tree/master/python). [This](https://help.openlattice.com/article/104-overview-and-installation-of-api-clients) is a detailed setup instructions for setting up the openlattice module.\n",
    "\n",
    "Then set up the configurations."
   ]
  },
  {
   "cell_type": "code",
   "execution_count": 1,
   "metadata": {},
   "outputs": [],
   "source": [
    "import openlattice\n",
    "import olpy\n",
    "conf = openlattice.Configuration()\n",
    "conf.access_token = olpy.get_jwt()\n",
    "conf.host = \"https://api.openlattice.com\"\n",
    "dataAPI = openlattice.DataApi(openlattice.ApiClient(conf))"
   ]
  },
  {
   "cell_type": "markdown",
   "metadata": {},
   "source": [
    "## Loading data\n",
    "\n",
    "The following is a toy dataset derived in the [deleting entity sets tutorial](www.github.com/lattice-works/api-clients/examples/pipelines/deleting_entity_sets.ipynb). If you want to load the first 10,000 results of the dataset, use:"
   ]
  },
  {
   "cell_type": "code",
   "execution_count": 11,
   "metadata": {},
   "outputs": [
    {
     "data": {
      "text/plain": [
       "[{'nc.SubjectIdentification': ['Child1'],\n",
       "  'openlattice.@id': ['24220000-0000-0000-8000-00000001f3aa']},\n",
       " {'nc.SubjectIdentification': ['Woman1'],\n",
       "  'openlattice.@id': ['25fc0000-0000-0000-8000-00000001e3e2']},\n",
       " {'nc.SubjectIdentification': ['Woman2'],\n",
       "  'openlattice.@id': ['260a0000-0000-0000-8000-00000001e2a1']},\n",
       " {'nc.SubjectIdentification': ['Child2'],\n",
       "  'openlattice.@id': ['26140000-0000-0000-8000-00000001f19f']}]"
      ]
     },
     "execution_count": 11,
     "metadata": {},
     "output_type": "execute_result"
    }
   ],
   "source": [
    "entset = \"0f898abd-edfe-4212-8642-74db49efa474\"\n",
    "dataAPI.load_filtered_entity_set_data(\n",
    "     entset, \n",
    "     openlattice.FilteredDataPageDefinition()\n",
    " )"
   ]
  },
  {
   "cell_type": "markdown",
   "metadata": {},
   "source": [
    "This returns a list of dictionaries. `openlattice.@id` is generated as a unique entity key with OpenLattice. The only \"real\" data here is `nc.SubjectIdentification`. \n",
    "\n",
    "Now, if you only wanted to load the first two datapoints, you will need to use:"
   ]
  },
  {
   "cell_type": "code",
   "execution_count": 12,
   "metadata": {},
   "outputs": [
    {
     "data": {
      "text/plain": [
       "[{'nc.SubjectIdentification': ['Child1'],\n",
       "  'openlattice.@id': ['24220000-0000-0000-8000-00000001f3aa']},\n",
       " {'nc.SubjectIdentification': ['Woman1'],\n",
       "  'openlattice.@id': ['25fc0000-0000-0000-8000-00000001e3e2']}]"
      ]
     },
     "execution_count": 12,
     "metadata": {},
     "output_type": "execute_result"
    }
   ],
   "source": [
    "filtered_pg = openlattice.FilteredDataPageDefinition(page_size = 2)\n",
    "dataAPI.load_filtered_entity_set_data(entset, filtered_pg)"
   ]
  },
  {
   "cell_type": "markdown",
   "metadata": {},
   "source": [
    "If you want to load the next two datapoints, you will need to use the last entity key (i.e. `openlattice.@id`) from the search results. In this case, that's `25fc0000-0000-0000-8000-00000001e3e2`."
   ]
  },
  {
   "cell_type": "code",
   "execution_count": 13,
   "metadata": {},
   "outputs": [
    {
     "data": {
      "text/plain": [
       "[{'nc.SubjectIdentification': ['Woman2'],\n",
       "  'openlattice.@id': ['260a0000-0000-0000-8000-00000001e2a1']},\n",
       " {'nc.SubjectIdentification': ['Child2'],\n",
       "  'openlattice.@id': ['26140000-0000-0000-8000-00000001f19f']}]"
      ]
     },
     "execution_count": 13,
     "metadata": {},
     "output_type": "execute_result"
    }
   ],
   "source": [
    "filtered_pg = openlattice.FilteredDataPageDefinition(\n",
    "    page_size = 2, \n",
    "    bookmark_id = \"25fc0000-0000-0000-8000-00000001e3e2\"\n",
    ")\n",
    "dataAPI.load_filtered_entity_set_data(entset, filtered_pg)"
   ]
  },
  {
   "cell_type": "markdown",
   "metadata": {},
   "source": [
    "And you should see the last two entries!\n",
    "\n",
    "If you want to filter on just `Woman1` for example, you can use:"
   ]
  },
  {
   "cell_type": "code",
   "execution_count": 14,
   "metadata": {},
   "outputs": [
    {
     "data": {
      "text/plain": [
       "[{'nc.SubjectIdentification': ['Woman1'],\n",
       "  'openlattice.@id': ['25fc0000-0000-0000-8000-00000001e3e2']}]"
      ]
     },
     "execution_count": 14,
     "metadata": {},
     "output_type": "execute_result"
    }
   ],
   "source": [
    "fl = openlattice.Filter(\n",
    "    _class = \"com.openlattice.analysis.requests.StringValueFilter\", \n",
    "    values = [\"Woman1\"]\n",
    ")\n",
    "filtered_pg = openlattice.FilteredDataPageDefinition(\n",
    "    property_type_id = \"5260cfbd-bfa4-40c1-ade5-cd83cc9f99b2\", \n",
    "    filter = fl\n",
    ")\n",
    "dataAPI.load_filtered_entity_set_data(entset, filtered_pg)"
   ]
  },
  {
   "cell_type": "markdown",
   "metadata": {},
   "source": [
    "To get the desired property type id, go to our [EDM page](https://openlattice.com/edm/#/propertyTypes). Search for a desired property type and the top right hand will have its corresponding UUID.\n",
    "\n",
    "Other potentially useful filters are `\"com.openlattice.analysis.requests.DateTimeRangeFilter\"`, `\"com.openlattice.analysis.requests.DateRangeFilter\"` to filter for datetimes, `\"com.openlattice.analysis.requests.DoubleRangeFilter\"` to filter for doubles and `\"com.openlattice.analysis.requests.LongRangeFilter\"` to filter for long values. You can, again, check the EDM page to see what type of value the corresponding property type is.\n",
    "\n",
    "These all have a `lowerbound` and `upperbound` arguments to filter for values (instead of `values` argument for the string filter)."
   ]
  },
  {
   "cell_type": "code",
   "execution_count": null,
   "metadata": {},
   "outputs": [],
   "source": []
  }
 ],
 "metadata": {
  "kernelspec": {
   "display_name": "Python 3",
   "language": "python",
   "name": "python3"
  },
  "language_info": {
   "codemirror_mode": {
    "name": "ipython",
    "version": 3
   },
   "file_extension": ".py",
   "mimetype": "text/x-python",
   "name": "python",
   "nbconvert_exporter": "python",
   "pygments_lexer": "ipython3",
   "version": "3.7.6"
  }
 },
 "nbformat": 4,
 "nbformat_minor": 4
}
